{
  "cells": [
    {
      "cell_type": "markdown",
      "metadata": {
        "id": "view-in-github",
        "colab_type": "text"
      },
      "source": [
        "<a href=\"https://colab.research.google.com/github/glcn35/DEEPLEARNING/blob/main/DL_Assignment_2_(Image_Classification_with_CNN)_g%C3%BClcan.ipynb\" target=\"_parent\"><img src=\"https://colab.research.google.com/assets/colab-badge.svg\" alt=\"Open In Colab\"/></a>"
      ]
    },
    {
      "cell_type": "markdown",
      "metadata": {
        "id": "BxaDY57XYWrM"
      },
      "source": [
        "___\n",
        "\n",
        "<p style=\"text-align: center;\"><img src=\"https://docs.google.com/uc?id=1lY0Uj5R04yMY3-ZppPWxqCr5pvBLYPnV\" class=\"img-fluid\" alt=\"CLRSWY\"></p>\n",
        "\n",
        "___"
      ]
    },
    {
      "cell_type": "markdown",
      "metadata": {
        "id": "f49W5AkMYWrQ"
      },
      "source": [
        "<h1 style=\"text-align: center;\">Deep Learning<br><br>Assignment-2 (CNN)<br><br>Image Classification with CNN<br><h1>"
      ]
    },
    {
      "cell_type": "markdown",
      "metadata": {
        "id": "TcpYZ4saYWrR"
      },
      "source": [
        "# Task and Dataset Info\n",
        "\n",
        "Welcome to second assignment of Deep learning lesson. Follow the instructions and complete the assignment.\n",
        "\n",
        "**Build an image classifier with Convolutional Neural Networks for the Fashion MNIST dataset. This data set includes 10 labels of different clothing types with 28 by 28 *grayscale* images. There is a training set of 60,000 images and 10,000 test images.**\n",
        "\n",
        "    Label\tDescription\n",
        "    0\t    T-shirt/top\n",
        "    1\t    Trouser\n",
        "    2\t    Pullover\n",
        "    3\t    Dress\n",
        "    4\t    Coat\n",
        "    5\t    Sandal\n",
        "    6\t    Shirt\n",
        "    7\t    Sneaker\n",
        "    8\t    Bag\n",
        "    9\t    Ankle boot"
      ]
    },
    {
      "cell_type": "markdown",
      "metadata": {
        "id": "M0rQYNlKYWrR"
      },
      "source": [
        "# Import Libraries"
      ]
    },
    {
      "cell_type": "code",
      "source": [
        "# # colab Update\n",
        "# !sudo apt-get update -y -q && \\\n",
        "# python --version && \\\n",
        "# pip list --outdated && \\\n",
        "# sudo pip3 install $(pip3 list --outdated | tail +3 | grep -v sdist | awk '{ print $1 }') --upgrade -q && \\\n",
        "# # pip install protobuf==3.20.* -q && \\\n",
        "# pip install --upgrade jax jaxlib -q"
      ],
      "metadata": {
        "id": "Our6dju5xFku"
      },
      "execution_count": 77,
      "outputs": []
    },
    {
      "cell_type": "code",
      "execution_count": 78,
      "metadata": {
        "id": "NG2277RyYWrS"
      },
      "outputs": [],
      "source": [
        "import numpy as np\n",
        "import pandas as pd\n",
        "import matplotlib.pyplot as plt\n",
        "import seaborn as sns\n",
        "\n",
        "import warnings\n",
        "warnings.filterwarnings(\"ignore\")\n",
        "warnings.warn(\"this will not show\")\n",
        "\n",
        "plt.rcParams[\"figure.figsize\"] = (10,6)\n",
        "\n",
        "sns.set_style(\"whitegrid\")\n",
        "pd.set_option('display.float_format', lambda x: '%.3f' % x)\n",
        "\n",
        "# Set it None to display all rows in the dataframe\n",
        "# pd.set_option('display.max_rows', None)\n",
        "\n",
        "# Set it to None to display all columns in the dataframe\n",
        "pd.set_option('display.max_columns', None)"
      ]
    },
    {
      "cell_type": "code",
      "execution_count": 79,
      "metadata": {
        "colab": {
          "base_uri": "https://localhost:8080/"
        },
        "id": "aXMjxUhYYWrT",
        "outputId": "95e79a50-55ce-4f1f-a784-2c0a0165a301"
      },
      "outputs": [
        {
          "output_type": "execute_result",
          "data": {
            "text/plain": [
              "[PhysicalDevice(name='/physical_device:GPU:0', device_type='GPU')]"
            ]
          },
          "metadata": {},
          "execution_count": 79
        }
      ],
      "source": [
        "import tensorflow as tf\n",
        "\n",
        "tf.config.list_physical_devices(\"GPU\")"
      ]
    },
    {
      "cell_type": "markdown",
      "metadata": {
        "id": "j71dbkomYWrT"
      },
      "source": [
        "# Recognizing and Understanding Data\n",
        "\n",
        "**TASK 1: Run the code below to download the dataset using Keras.**"
      ]
    },
    {
      "cell_type": "code",
      "execution_count": 80,
      "metadata": {
        "id": "q8-YQ8_XYWrU"
      },
      "outputs": [],
      "source": [
        "from tensorflow.keras.datasets import fashion_mnist\n",
        "\n",
        "(X_train, y_train), (X_test, y_test) = fashion_mnist.load_data()"
      ]
    },
    {
      "cell_type": "code",
      "execution_count": 81,
      "metadata": {
        "colab": {
          "base_uri": "https://localhost:8080/"
        },
        "id": "TkH6hQS1YWrU",
        "outputId": "d4c9a5b3-df66-41bd-d4fe-63bb1f558197"
      },
      "outputs": [
        {
          "output_type": "stream",
          "name": "stdout",
          "text": [
            "There are  60000 images in the training dataset\n",
            "There are  10000 images in the test dataset\n"
          ]
        }
      ],
      "source": [
        "print(\"There are \", len(X_train), \"images in the training dataset\")     \n",
        "print(\"There are \", len(X_test), \"images in the test dataset\")"
      ]
    },
    {
      "cell_type": "code",
      "execution_count": 82,
      "metadata": {
        "colab": {
          "base_uri": "https://localhost:8080/"
        },
        "id": "YYy1jSvoYWrV",
        "outputId": "f9d86b83-1b6c-4ae3-84f5-9dfc57c91a34"
      },
      "outputs": [
        {
          "output_type": "execute_result",
          "data": {
            "text/plain": [
              "(28, 28)"
            ]
          },
          "metadata": {},
          "execution_count": 82
        }
      ],
      "source": [
        "# Checking the shape of one image\n",
        "X_train[35].shape"
      ]
    },
    {
      "cell_type": "code",
      "source": [
        "X_train[35]"
      ],
      "metadata": {
        "colab": {
          "base_uri": "https://localhost:8080/"
        },
        "id": "L3oecpuOeN5q",
        "outputId": "e9c52c83-3653-4d90-dd59-e368505a5ae6"
      },
      "execution_count": 83,
      "outputs": [
        {
          "output_type": "execute_result",
          "data": {
            "text/plain": [
              "array([[  0,   0,   0,   0,   0,   0,   0,   0,   0,   0,   0,   4,   0,\n",
              "         37, 198,   6,   0,   0,   0,   0,   0,   0,   0,   0,   0,   0,\n",
              "          0,   0],\n",
              "       [  0,   0,   0,   0,   0,   0,   0,   0,   0,   0,   2,   0,   8,\n",
              "         98,  41, 113,   0,   2,   0,   0,   0,   0,   0,   0,   0,   0,\n",
              "          0,   0],\n",
              "       [  0,   0,   0,   0,   0,   0,   0,   0,   0,   0,   2,   0,  76,\n",
              "         82,   0, 202,   0,   0,   0,   0,   0,   0,   0,   0,   0,   0,\n",
              "          0,   0],\n",
              "       [  0,   0,   0,   0,   0,   0,   0,   0,   0,   0,   4,   0, 139,\n",
              "         43,   0, 193,  32,   0,   2,   0,   0,   0,   0,   0,   0,   0,\n",
              "          0,   0],\n",
              "       [  0,   0,   0,   0,   0,   0,   0,   0,   0,   0,   0,   0, 172,\n",
              "          0,   0, 111,  82,   0,   2,   0,   0,   0,   0,   0,   0,   0,\n",
              "          0,   0],\n",
              "       [  0,   0,   0,   0,   0,   0,   0,   0,   0,   4,   0,  61, 139,\n",
              "          0,   0,  43, 115,   0,   4,   0,   0,   0,   2,   0,   0,   0,\n",
              "          0,   0],\n",
              "       [  0,   0,   0,   0,   0,   0,   0,   0,   0,   6,   0, 143,  82,\n",
              "          0,   0,   0, 122,   0,   2,   4,   0,   2,   0,   0,   0,   0,\n",
              "          0,   0],\n",
              "       [  0,   0,   0,   0,   0,   0,   0,   0,   0,   0,   0, 198,   8,\n",
              "          0,   0,   0, 108,  39,   0,   4,   0,   0,   0,   0,   0,   0,\n",
              "          0,   0],\n",
              "       [  0,   0,   0,   0,   0,   0,   0,   0,   0,   0,  43, 202,   0,\n",
              "          0,   2,   0,  93,  98,   0,   2,   2,   0,   0,   0,   0,   0,\n",
              "          0,   0],\n",
              "       [  0,   0,   0,   0,   0,   0,   0,   0,   0,   0, 135, 143,   0,\n",
              "          2,   0,   0,  52, 148,   0,   0,   0,   0,   2,   0,   2,   0,\n",
              "          0,   0],\n",
              "       [  0,   0,   0,   0,   0,   0,   0,   0,   0,   0, 211,  21,   0,\n",
              "          0,   0,   0,   2, 187,   0,   0,   0,   0,   0,   0,   0,   0,\n",
              "          0,   0],\n",
              "       [  0,   0,   0,  50,  58,  71,  63,  58,  17, 176, 254,  41,  65,\n",
              "         43,  30,  17,  32, 154,  23,  34,  41,  50,  58,  78,  32,   0,\n",
              "          0,   0],\n",
              "       [  0,   0,   0,  82, 106,  95,  87,  80,  58, 187, 209, 106,  74,\n",
              "         82,  76,  87,  76, 141,  91,  65,  80,  89,  91, 122,  61,   0,\n",
              "          0,   0],\n",
              "       [  0,   0,   0,  63,  89,  65,  61,  74,  34, 161, 189,  65,  61,\n",
              "         67,  63,  71,  74, 119, 100,  76,  84,  78,  71, 111,  56,   0,\n",
              "          0,   0],\n",
              "       [  0,   0,   0,  63,  89,  74,  74,  84,  50, 146, 128,  91,  78,\n",
              "         71,  65,  65,  50, 143, 135,  58,  87,  80,  74, 102,  65,   0,\n",
              "          0,   0],\n",
              "       [  0,   0,   0,  71, 113,  87,  89,  91,  56, 128, 161, 130,  67,\n",
              "         69,  76,  87,  78,  98, 106,  80, 104, 106, 100, 104,  54,   0,\n",
              "          0,   0],\n",
              "       [  0,   0,   0,  50,  95,  78,  84,  89,  84,  67, 189, 163,  56,\n",
              "         65,  78,  80,  91,  78,  80,  78,  82,  93,  87, 108,  45,   0,\n",
              "          0,   0],\n",
              "       [  0,   0,   0,  54, 108,  87,  84,  93,  76,  89, 220, 196, 106,\n",
              "         82,  91,  89,  93,  91,  91,  84,  89,  91,  76, 102,  39,   0,\n",
              "          0,   0],\n",
              "       [  0,   0,   0,  43, 115,  91,  91, 102,  82,  91, 215, 207, 128,\n",
              "         87, 102,  95,  95,  91,  91,  98,  82,  82,  87, 104,  32,   0,\n",
              "          0,   0],\n",
              "       [  0,   0,   0,  28, 100,  93,  93, 106,  87,  95, 213, 217, 150,\n",
              "         89, 102,  93, 100,  98, 100,  95,  93,  82,  76, 102,  43,   0,\n",
              "          0,   0],\n",
              "       [  0,   0,   0,  63, 115, 108,  98, 108,  91, 132, 228, 220, 183,\n",
              "        108, 104, 113, 111, 106, 102, 104, 102,  87,  80,  84,  47,   0,\n",
              "          0,   0],\n",
              "       [  0,   0,   0,  91, 185, 154, 150, 148, 126, 156, 204, 217, 180,\n",
              "        137, 139, 141, 137, 130, 150, 146, 139, 139, 124, 119,  65,   0,\n",
              "          0,   0],\n",
              "       [  0,   0,   0,  67, 172, 137, 143, 139, 135, 135, 165, 150, 119,\n",
              "        139, 132, 128, 135, 130, 126, 128, 137, 119, 113, 137,  74,   0,\n",
              "          0,   0],\n",
              "       [  0,   0,   0,  61, 143, 119, 117, 122, 122, 135, 163, 156, 135,\n",
              "        137, 143, 139, 137, 143, 130, 135, 141, 128, 130, 135,  82,   0,\n",
              "          0,   0],\n",
              "       [  0,   0,   0,  39, 150, 119, 122, 124, 137, 150, 143, 154, 139,\n",
              "        132, 143, 143, 143, 152, 152, 156, 159, 148, 148, 165,  41,   0,\n",
              "          0,   0],\n",
              "       [  0,   0,   0,   0, 150, 161, 128, 128, 128, 139, 143, 141, 143,\n",
              "        143, 141, 139, 139, 148, 150, 146, 150, 143, 154, 163,   0,   0,\n",
              "          0,   0],\n",
              "       [  0,   0,   0,   0,  32, 154, 167, 156, 159, 148, 150, 154, 163,\n",
              "        169, 169, 169, 167, 161, 159, 152, 165, 169, 146,  23,   0,   0,\n",
              "          0,   0],\n",
              "       [  0,   0,   0,   0,   0,   2,  67,  91, 130, 130, 137, 143, 143,\n",
              "        124, 111, 104, 106, 106, 111, 126, 115,  93,   0,   0,   0,   0,\n",
              "          0,   0]], dtype=uint8)"
            ]
          },
          "metadata": {},
          "execution_count": 83
        }
      ]
    },
    {
      "cell_type": "code",
      "execution_count": 84,
      "metadata": {
        "colab": {
          "base_uri": "https://localhost:8080/",
          "height": 392
        },
        "id": "kCO0uJEkYWrV",
        "outputId": "09e81b7d-d930-4501-85ae-bf767d0de6d9"
      },
      "outputs": [
        {
          "output_type": "execute_result",
          "data": {
            "text/plain": [
              "<matplotlib.image.AxesImage at 0x7f487c75df90>"
            ]
          },
          "metadata": {},
          "execution_count": 84
        },
        {
          "output_type": "display_data",
          "data": {
            "text/plain": [
              "<Figure size 720x432 with 1 Axes>"
            ],
            "image/png": "[encoded data removed]"
          },
          "metadata": {}
        }
      ],
      "source": [
        "plt.imshow(X_train[35])\n",
        "# plt.matshow(X_train[35])"
      ]
    },
    {
      "cell_type": "code",
      "source": [
        "y_train[35]"
      ],
      "metadata": {
        "colab": {
          "base_uri": "https://localhost:8080/"
        },
        "id": "tDc7fu_vd4F1",
        "outputId": "5261a75e-2b1e-4136-a3ac-5edf5411060f"
      },
      "execution_count": 85,
      "outputs": [
        {
          "output_type": "execute_result",
          "data": {
            "text/plain": [
              "8"
            ]
          },
          "metadata": {},
          "execution_count": 85
        }
      ]
    },
    {
      "cell_type": "code",
      "execution_count": 86,
      "metadata": {
        "colab": {
          "base_uri": "https://localhost:8080/"
        },
        "id": "gMyVfkYYYWrW",
        "outputId": "f2b62c4d-5eaa-4cf6-dd26-0f5a7ac5873a"
      },
      "outputs": [
        {
          "output_type": "execute_result",
          "data": {
            "text/plain": [
              "(60000,)"
            ]
          },
          "metadata": {},
          "execution_count": 86
        }
      ],
      "source": [
        "y_train.shape"
      ]
    },
    {
      "cell_type": "code",
      "execution_count": 87,
      "metadata": {
        "colab": {
          "base_uri": "https://localhost:8080/"
        },
        "id": "MruxKy58YWrW",
        "outputId": "62d7be97-4fb8-4b14-b087-b7b6fd872b36"
      },
      "outputs": [
        {
          "output_type": "execute_result",
          "data": {
            "text/plain": [
              "array([9, 0, 0, ..., 3, 0, 5], dtype=uint8)"
            ]
          },
          "metadata": {},
          "execution_count": 87
        }
      ],
      "source": [
        "y_train"
      ]
    },
    {
      "cell_type": "code",
      "execution_count": 88,
      "metadata": {
        "colab": {
          "base_uri": "https://localhost:8080/"
        },
        "id": "ge3-2J6qYWrX",
        "outputId": "7b4d6af0-9e1e-4c9f-d643-8a0b9ff8c00e"
      },
      "outputs": [
        {
          "output_type": "execute_result",
          "data": {
            "text/plain": [
              "(array([0, 1, 2, 3, 4, 5, 6, 7, 8, 9], dtype=uint8),\n",
              " array([6000, 6000, 6000, 6000, 6000, 6000, 6000, 6000, 6000, 6000]))"
            ]
          },
          "metadata": {},
          "execution_count": 88
        }
      ],
      "source": [
        "np.unique(y_train, return_counts=True)"
      ]
    },
    {
      "cell_type": "markdown",
      "metadata": {
        "id": "707vISkJYWrX"
      },
      "source": [
        "**TASK 2: Use matplotlib to view an image from the data set. It can be any image from the data set.**"
      ]
    },
    {
      "cell_type": "code",
      "execution_count": 89,
      "metadata": {
        "id": "XxeUs-T5YWrY"
      },
      "outputs": [],
      "source": [
        "classes=[\"T-shirt/top\", \"Trouser\",\"Pullover\",\"Dress\",\"Coat\",\"Sandal\",\"Shirt\",\"Sneaker\",\"Bag\",\"Ankle boot\"]"
      ]
    },
    {
      "cell_type": "code",
      "execution_count": 90,
      "metadata": {
        "colab": {
          "base_uri": "https://localhost:8080/"
        },
        "id": "iwZgf4BfYWrY",
        "outputId": "ae8f2512-b5e7-4009-dce0-62ce27b5a50a"
      },
      "outputs": [
        {
          "output_type": "execute_result",
          "data": {
            "text/plain": [
              "9"
            ]
          },
          "metadata": {},
          "execution_count": 90
        }
      ],
      "source": [
        "y_train[0]"
      ]
    },
    {
      "cell_type": "code",
      "execution_count": 91,
      "metadata": {
        "colab": {
          "base_uri": "https://localhost:8080/",
          "height": 36
        },
        "id": "WBCwam4CYWrY",
        "outputId": "10677550-9c02-434a-a830-95f1aeb66421"
      },
      "outputs": [
        {
          "output_type": "execute_result",
          "data": {
            "text/plain": [
              "'Ankle boot'"
            ],
            "application/vnd.google.colaboratory.intrinsic+json": {
              "type": "string"
            }
          },
          "metadata": {},
          "execution_count": 91
        }
      ],
      "source": [
        "classes[y_train[0]]"
      ]
    },
    {
      "cell_type": "code",
      "execution_count": 92,
      "metadata": {
        "colab": {
          "base_uri": "https://localhost:8080/",
          "height": 36
        },
        "id": "8Gta74kvYWrZ",
        "outputId": "ac48d920-1aaa-4e07-d86f-a27686e9b489"
      },
      "outputs": [
        {
          "output_type": "execute_result",
          "data": {
            "text/plain": [
              "'Ankle boot'"
            ],
            "application/vnd.google.colaboratory.intrinsic+json": {
              "type": "string"
            }
          },
          "metadata": {},
          "execution_count": 92
        }
      ],
      "source": [
        "classes[int(y_train[0])]"
      ]
    },
    {
      "cell_type": "code",
      "execution_count": 93,
      "metadata": {
        "colab": {
          "base_uri": "https://localhost:8080/"
        },
        "id": "upe0WRdZYWrZ",
        "outputId": "465f7710-c8d8-4824-cbee-705a620441f4"
      },
      "outputs": [
        {
          "output_type": "execute_result",
          "data": {
            "text/plain": [
              "array([[  0,   0,   0,   0,   0,   0,   0,   0,   0,   0,  34, 194, 211,\n",
              "        196, 218, 217, 190,   0,   0,   1,   0,   0,   0,   0,   0,   0,\n",
              "          0,   0],\n",
              "       [  0,   0,   0,   0,   0,   0,   0,   2,   0,   0, 198, 255, 242,\n",
              "        242, 237, 225, 255,  49,   0,   8,   6,   0,   1,   0,   0,   0,\n",
              "          0,   0],\n",
              "       [  0,   0,   0,   0,   0,   0,   0,   0,   0,   0, 215, 236, 202,\n",
              "        221, 220, 216, 254, 118,   0,   0,   0,   0,   0,   0,   0,   0,\n",
              "          0,   0],\n",
              "       [  0,   0,   0,   0,   1,   0,   0,  47, 168, 244, 255, 227, 221,\n",
              "        230, 232, 230, 231, 255, 230, 147,  22,   0,   0,   0,   0,   0,\n",
              "          0,   0],\n",
              "       [  0,   0,   0,   0,   1,   0,  65, 235, 232, 227, 232, 234, 226,\n",
              "        228, 219, 221, 238, 225, 220, 244, 233,   0,   0,   1,   0,   0,\n",
              "          0,   0],\n",
              "       [  0,   0,   0,   1,   0,   0,  48, 202, 212, 215, 223, 225, 216,\n",
              "        227, 227, 230, 229, 219, 208, 221,  95,  23,   0,   1,   0,   0,\n",
              "          0,   0],\n",
              "       [  0,   0,   0,   1,   0,  19,  38, 178, 236, 252, 253, 251, 245,\n",
              "        249, 246, 238, 244, 239, 224, 210,  30,  60,   0,   0,   0,   0,\n",
              "          0,   0],\n",
              "       [  0,   0,   0,   1,   0,  41,  55, 156, 166,  65,  59,  54,  18,\n",
              "        150,  59,  16,  34,  20,  74, 129,  43,  66,  16,   0,   1,   0,\n",
              "          0,   0],\n",
              "       [  0,   0,   0,   0,   0,  47,  92,  66,  20,  19,  28,  32,   4,\n",
              "        152,  47,  24,  33,  27,  10,  48,  66,  59,  34,   0,   2,   0,\n",
              "          0,   0],\n",
              "       [  0,   0,   0,   0,   0,  58,  80, 136,  53,  45,  45,  55,  21,\n",
              "        163,  67,  34,  50,  41,  44, 139,  64,  94,  79,   0,   2,   0,\n",
              "          0,   0],\n",
              "       [  0,   0,   0,   0,   6,  63,  87, 149, 184,  41,  72,  52,  21,\n",
              "        158,  68,  37,  51,  36,  86,  88,  91,  50,  53,   0,   0,   0,\n",
              "          0,   0],\n",
              "       [  0,   0,   0,   0,  15,  76, 110,  83, 133,  54,  91,  48,  25,\n",
              "        158,  71,  38,  55,  40,  96,  63, 107,  56,  56,   7,   0,   0,\n",
              "          0,   0],\n",
              "       [  0,   0,   0,   0,  23,  84, 128,  49, 139,  71,  62,  57,  28,\n",
              "        160,  77,  39,  51,  32,  95,  65, 118,  57,  56,  12,   0,   0,\n",
              "          0,   0],\n",
              "       [  0,   0,   0,   0,  32,  86, 139,  45, 173,  68,  50,  72,  26,\n",
              "        154,  85,  41,  54,  42, 104,  81, 123,  60,  51,  22,   0,   0,\n",
              "          0,   0],\n",
              "       [  0,   0,   0,   0,  40,  88, 138,  51, 103,  36,  55,  70,  27,\n",
              "        154,  96,  41,  60,  59,  71,  81, 134,  66,  50,  34,   0,   0,\n",
              "          0,   0],\n",
              "       [  0,   0,   0,   0,  41,  95, 123, 103, 115,  34,  60,  75,  33,\n",
              "        146,  96,  43,  66,  47,  35, 110, 144,  65,  55,  40,   0,   0,\n",
              "          0,   0],\n",
              "       [  0,   0,   0,   0,  47,  93, 134, 140,  74,  44,  64,  71,  38,\n",
              "        144, 100,  48,  65,  56,  27, 100, 184,  60,  55,  46,   0,   0,\n",
              "          0,   0],\n",
              "       [  0,   0,   0,   4,  56,  81, 161, 156,  21,  65,  55,  68,  40,\n",
              "        146, 107,  47,  69,  63,  36,  43, 165,  77,  63,  43,   0,   0,\n",
              "          0,   0],\n",
              "       [  0,   0,   0,  14,  59,  67, 185, 141,  24,  67,  65,  69,  35,\n",
              "        144, 107,  51,  65,  57,  60,  20, 136, 103,  65,  56,   0,   0,\n",
              "          0,   0],\n",
              "       [  0,   0,   0,  27,  61,  71, 190,  92,  30,  74,  59,  74,  40,\n",
              "        141, 113,  50,  73,  56,  69,  13,  94, 117,  61,  70,   0,   0,\n",
              "          0,   0],\n",
              "       [  0,   0,   0,  31,  62,  87, 165,  41,  54,  67,  54,  65,  41,\n",
              "        135, 118,  41,  76,  65,  62,  30,  76, 117,  66,  70,   3,   0,\n",
              "          0,   0],\n",
              "       [  0,   0,   0,  39,  61,  89, 150,  18,  69,  64,  66,  66,  41,\n",
              "        136, 132,  39,  56,  59,  58,  51,  53, 112,  71,  66,  16,   0,\n",
              "          0,   0],\n",
              "       [  0,   0,   0,  44,  60,  89, 152,  36,  62,  65,  62,  70,  47,\n",
              "        126, 128,  49,  70,  57,  66,  48,  50, 132,  69,  61,  24,   0,\n",
              "          0,   0],\n",
              "       [  0,   0,   0,  51,  58,  86, 160,  61,  56,  66,  62,  80,  41,\n",
              "        122, 131,  35,  77,  56,  50,  42,  60, 142,  71,  62,  29,   0,\n",
              "          0,   0],\n",
              "       [  0,   0,   0,  51,  55,  82, 178,  73,  67,  72,  66,  66,  36,\n",
              "        131, 134,  41,  71,  71,  68,  58,  65, 111,  73,  63,  30,   0,\n",
              "          0,   0],\n",
              "       [  0,   0,   0,  47,  57,  83, 169,  31,  30,  66,  70,  75,  51,\n",
              "        150, 151,  40,  70,  51,  46,  22,  35, 117,  56,  59,  32,   0,\n",
              "          0,   0],\n",
              "       [  0,   0,   0,  69,  68, 115, 176,  10,   0,   0,   0,   0,   0,\n",
              "          6,   5,   0,   0,   0,   0,   0,  23, 160,  69,  71,  59,   0,\n",
              "          0,   0],\n",
              "       [  0,   0,   0,  11,  20,  47,  57,   0,   1,   0,   0,   0,   0,\n",
              "          0,   0,   0,   0,   0,   1,   0,   7,  55,  17,  22,  13,   0,\n",
              "          0,   0]], dtype=uint8)"
            ]
          },
          "metadata": {},
          "execution_count": 93
        }
      ],
      "source": [
        "X_train[int(np.random.randint(low=0, high=50000, size=1))]"
      ]
    },
    {
      "cell_type": "code",
      "execution_count": 94,
      "metadata": {
        "colab": {
          "base_uri": "https://localhost:8080/",
          "height": 333
        },
        "id": "l6J3a6uQYWrZ",
        "outputId": "ba73564d-897d-4f6c-e71a-4dc754642ef6"
      },
      "outputs": [
        {
          "output_type": "display_data",
          "data": {
            "text/plain": [
              "<Figure size 1440x720 with 20 Axes>"
            ],
            "image/png": "[encoded data removed]"
          },
          "metadata": {}
        }
      ],
      "source": [
        "\n",
        "plt.figure(figsize=(20,10))\n",
        "for i in range(20):\n",
        "    plt.subplot(3,10,i+1)\n",
        "    plt.xticks([])\n",
        "    plt.yticks([])\n",
        "    plt.grid(False)\n",
        "    plt.title(classes[int(y_train[i])])\n",
        "    plt.imshow(X_train[i],cmap='gray')\n",
        "plt.show()"
      ]
    },
    {
      "cell_type": "markdown",
      "metadata": {
        "id": "Pbe6S84rYWra"
      },
      "source": [
        "# Data Preprocessing\n",
        "\n",
        "**TASK 3: Normalize the X train and X test data by dividing by the max value of the image arrays.**"
      ]
    },
    {
      "cell_type": "code",
      "execution_count": 95,
      "metadata": {
        "colab": {
          "base_uri": "https://localhost:8080/"
        },
        "id": "AkKTspaUYWra",
        "outputId": "dfb30470-fdc9-420c-da77-1444093dc5c9"
      },
      "outputs": [
        {
          "output_type": "execute_result",
          "data": {
            "text/plain": [
              "(0, 254)"
            ]
          },
          "metadata": {},
          "execution_count": 95
        }
      ],
      "source": [
        "X_train[35].min(), X_train[35].max()"
      ]
    },
    {
      "cell_type": "code",
      "execution_count": 96,
      "metadata": {
        "id": "mlT9k3H5YWra"
      },
      "outputs": [],
      "source": [
        "# Normalize image pixels\n",
        "\n",
        "X_train = X_train.astype('float32')\n",
        "X_test = X_test.astype('float32')\n",
        "X_train /= 255\n",
        "X_test /= 255"
      ]
    },
    {
      "cell_type": "code",
      "execution_count": 97,
      "metadata": {
        "colab": {
          "base_uri": "https://localhost:8080/"
        },
        "id": "qCMhnU6RYWra",
        "outputId": "eb99f757-d54d-495b-ccb2-27dd5c4be98c"
      },
      "outputs": [
        {
          "output_type": "execute_result",
          "data": {
            "text/plain": [
              "(0.0, 0.99607843)"
            ]
          },
          "metadata": {},
          "execution_count": 97
        }
      ],
      "source": [
        "X_train[35].min(),X_train[35].max()"
      ]
    },
    {
      "cell_type": "markdown",
      "metadata": {
        "id": "RngAZSYRYWra"
      },
      "source": [
        "**Task 4: Reshape the X arrays to include a 4 dimension of the single channel. Similar to what we did for the numbers MNIST data set.**"
      ]
    },
    {
      "cell_type": "code",
      "execution_count": 98,
      "metadata": {
        "colab": {
          "base_uri": "https://localhost:8080/"
        },
        "id": "vUp5lSz9YWrb",
        "outputId": "ba718ce7-c3f5-4192-957e-10fc9831e88e"
      },
      "outputs": [
        {
          "output_type": "execute_result",
          "data": {
            "text/plain": [
              "((60000, 28, 28), (10000, 28, 28))"
            ]
          },
          "metadata": {},
          "execution_count": 98
        }
      ],
      "source": [
        "X_train.shape, X_test.shape"
      ]
    },
    {
      "cell_type": "code",
      "execution_count": 99,
      "metadata": {
        "id": "Ph2M7Q8yYWrb"
      },
      "outputs": [],
      "source": [
        "# building the input vector from the 28x28 pixels\n",
        "X_train = X_train.reshape(X_train.shape[0], 28, 28, 1)\n",
        "X_test = X_test.reshape(X_test.shape[0], 28, 28, 1)\n",
        "X_train = X_train.astype('float32')\n",
        "X_test = X_test.astype('float32')"
      ]
    },
    {
      "cell_type": "code",
      "execution_count": 100,
      "metadata": {
        "colab": {
          "base_uri": "https://localhost:8080/"
        },
        "id": "lZHaIuBVYWrb",
        "outputId": "d0545d25-b8d4-4687-d03c-bfe663569993"
      },
      "outputs": [
        {
          "output_type": "execute_result",
          "data": {
            "text/plain": [
              "((60000, 28, 28, 1), (10000, 28, 28, 1))"
            ]
          },
          "metadata": {},
          "execution_count": 100
        }
      ],
      "source": [
        "X_train.shape, X_test.shape"
      ]
    },
    {
      "cell_type": "markdown",
      "metadata": {
        "id": "SUVtuvb2YWrb"
      },
      "source": [
        "**TASK 5: Convert the y_train and y_test values to be one-hot encoded for categorical analysis by Keras.**"
      ]
    },
    {
      "cell_type": "code",
      "execution_count": 101,
      "metadata": {
        "id": "ESCu5VmLYWrc"
      },
      "outputs": [],
      "source": [
        "from tensorflow.keras.utils import to_categorical\n",
        "# keras imports for the dataset and building our neural network\n",
        "from keras.models import Sequential\n",
        "from keras.layers import Dense, Dropout, Conv2D, MaxPool2D, Flatten\n",
        "from keras.utils import np_utils"
      ]
    },
    {
      "cell_type": "code",
      "execution_count": 102,
      "metadata": {
        "colab": {
          "base_uri": "https://localhost:8080/"
        },
        "id": "kTUo2EDFYWrc",
        "outputId": "3b10229f-62a9-44bf-8eaa-f078928000ec"
      },
      "outputs": [
        {
          "output_type": "execute_result",
          "data": {
            "text/plain": [
              "((60000,), array([9, 0, 0, ..., 3, 0, 5], dtype=uint8))"
            ]
          },
          "metadata": {},
          "execution_count": 102
        }
      ],
      "source": [
        "y_train.shape,y_train"
      ]
    },
    {
      "cell_type": "code",
      "execution_count": 103,
      "metadata": {
        "colab": {
          "base_uri": "https://localhost:8080/"
        },
        "id": "CfbgKkB3YWrc",
        "outputId": "65de7f9e-4eae-470a-eed0-25a7ac05e47a"
      },
      "outputs": [
        {
          "output_type": "execute_result",
          "data": {
            "text/plain": [
              "(10, array([9, 0, 3, 2, 7, 5, 1, 6, 4, 8], dtype=uint8))"
            ]
          },
          "metadata": {},
          "execution_count": 103
        }
      ],
      "source": [
        "Y__train=pd.DataFrame(y_train)\n",
        "len(Y__train[0].unique()),Y__train[0].unique()\n"
      ]
    },
    {
      "cell_type": "code",
      "execution_count": 104,
      "metadata": {
        "colab": {
          "base_uri": "https://localhost:8080/"
        },
        "id": "xeBpZbXBYWrd",
        "outputId": "4ab3ecf7-b49e-48a5-d604-06b247970bb5"
      },
      "outputs": [
        {
          "output_type": "stream",
          "name": "stdout",
          "text": [
            "Shape before one-hot encoding:  (60000,)\n",
            "Shape after one-hot encoding:  (60000, 10)\n"
          ]
        }
      ],
      "source": [
        "# one-hot encoding using keras' numpy-related utilities\n",
        "n_classes = 10\n",
        "print(\"Shape before one-hot encoding: \", y_train.shape)\n",
        "Y_train = np_utils.to_categorical(y_train, n_classes)\n",
        "Y_test = np_utils.to_categorical(y_test, n_classes)\n",
        "print(\"Shape after one-hot encoding: \", Y_train.shape)"
      ]
    },
    {
      "cell_type": "code",
      "execution_count": 105,
      "metadata": {
        "colab": {
          "base_uri": "https://localhost:8080/"
        },
        "id": "8r2BOt-PYWrd",
        "outputId": "4f362b69-a214-4504-e564-aa2fb24533e2"
      },
      "outputs": [
        {
          "output_type": "execute_result",
          "data": {
            "text/plain": [
              "(5, array([0., 0., 0., 0., 0., 1., 0., 0., 0., 0.], dtype=float32))"
            ]
          },
          "metadata": {},
          "execution_count": 105
        }
      ],
      "source": [
        "y_train[9],Y_train[9]"
      ]
    },
    {
      "cell_type": "markdown",
      "metadata": {
        "id": "jk4VvpFmYWrd"
      },
      "source": [
        "# Modeling"
      ]
    },
    {
      "cell_type": "markdown",
      "metadata": {
        "id": "jN3LBBIVYWrd"
      },
      "source": [
        "## Create the model\n",
        "\n",
        "**TASK 5: Use Keras to create a model consisting of at least the following layers (but feel free to experiment):**\n",
        "\n",
        "* 2D Convolutional Layer, filters=28 and kernel_size=(3,3)\n",
        "* Pooling Layer where pool_size = (2,2) strides=(1,1)\n",
        "\n",
        "* Flatten Layer\n",
        "* Dense Layer (128 Neurons, but feel free to play around with this value), RELU activation\n",
        "\n",
        "* Final Dense Layer of 10 Neurons with a softmax activation\n",
        "\n",
        "**Then compile the model with these parameters: loss='categorical_crossentropy', optimizer='rmsprop', metrics=['accuracy']**"
      ]
    },
    {
      "cell_type": "code",
      "execution_count": 106,
      "metadata": {
        "id": "ohvbKsk6YWre"
      },
      "outputs": [],
      "source": [
        "from keras.models import Sequential\n",
        "from keras.layers import Conv2D, MaxPool2D, Flatten, Dense, InputLayer, BatchNormalization, Dropout"
      ]
    },
    {
      "cell_type": "markdown",
      "source": [
        "##  Model1 Training "
      ],
      "metadata": {
        "id": "qODwQhLIw1Ft"
      }
    },
    {
      "cell_type": "code",
      "execution_count": 107,
      "metadata": {
        "id": "ADm0o2xFYWre"
      },
      "outputs": [],
      "source": [
        "model1 = Sequential()\n",
        "\n",
        "# convolutional layer\n",
        "model1.add(Conv2D(filters=28, kernel_size=(3,3), activation='relu', padding='same', input_shape=(28, 28, 1)))\n",
        "model1.add(MaxPool2D(pool_size=(2, 2) ,strides=(1,1)))\n",
        "# flatten output of conv\n",
        "model1.add(Flatten())\n",
        "# hidden layer\n",
        "model1.add(Dense(128, activation='relu'))\n",
        "# output layer\n",
        "model1.add(Dense(10, activation='softmax'))\n",
        "# compiling the sequential model\n",
        "model1.compile(loss='categorical_crossentropy',\n",
        "               optimizer='rmsprop',\n",
        "               metrics=['accuracy'])"
      ]
    },
    {
      "cell_type": "code",
      "execution_count": 108,
      "metadata": {
        "colab": {
          "base_uri": "https://localhost:8080/"
        },
        "id": "dvsz2lvyYWre",
        "outputId": "5634b142-bcdb-436f-c252-5c80e5d8cb43"
      },
      "outputs": [
        {
          "output_type": "stream",
          "name": "stdout",
          "text": [
            "Model: \"sequential_2\"\n",
            "_________________________________________________________________\n",
            " Layer (type)                Output Shape              Param #   \n",
            "=================================================================\n",
            " conv2d_2 (Conv2D)           (None, 28, 28, 28)        280       \n",
            "                                                                 \n",
            " max_pooling2d_2 (MaxPooling  (None, 27, 27, 28)       0         \n",
            " 2D)                                                             \n",
            "                                                                 \n",
            " flatten_2 (Flatten)         (None, 20412)             0         \n",
            "                                                                 \n",
            " dense_4 (Dense)             (None, 128)               2612864   \n",
            "                                                                 \n",
            " dense_5 (Dense)             (None, 10)                1290      \n",
            "                                                                 \n",
            "=================================================================\n",
            "Total params: 2,614,434\n",
            "Trainable params: 2,614,434\n",
            "Non-trainable params: 0\n",
            "_________________________________________________________________\n"
          ]
        }
      ],
      "source": [
        "model1.summary()"
      ]
    },
    {
      "cell_type": "code",
      "execution_count": 109,
      "metadata": {
        "colab": {
          "base_uri": "https://localhost:8080/"
        },
        "id": "KMC2EPeZYWre",
        "outputId": "40ed5753-6946-4228-bd42-54d355fcce8e"
      },
      "outputs": [
        {
          "output_type": "stream",
          "name": "stdout",
          "text": [
            "Epoch 1/20\n",
            "1875/1875 [==============================] - 8s 4ms/step - loss: 0.3680 - accuracy: 0.8707 - val_loss: 0.3057 - val_accuracy: 0.8923\n",
            "Epoch 2/20\n",
            "1875/1875 [==============================] - 7s 4ms/step - loss: 0.2471 - accuracy: 0.9117 - val_loss: 0.2985 - val_accuracy: 0.8938\n",
            "Epoch 3/20\n",
            "1875/1875 [==============================] - 8s 4ms/step - loss: 0.2098 - accuracy: 0.9249 - val_loss: 0.2706 - val_accuracy: 0.9095\n",
            "Epoch 4/20\n",
            "1875/1875 [==============================] - 8s 4ms/step - loss: 0.1854 - accuracy: 0.9344 - val_loss: 0.3019 - val_accuracy: 0.8994\n",
            "Epoch 5/20\n",
            "1875/1875 [==============================] - 7s 4ms/step - loss: 0.1676 - accuracy: 0.9417 - val_loss: 0.3176 - val_accuracy: 0.9065\n",
            "Epoch 6/20\n",
            "1875/1875 [==============================] - 7s 4ms/step - loss: 0.1542 - accuracy: 0.9463 - val_loss: 0.3148 - val_accuracy: 0.9129\n",
            "Epoch 7/20\n",
            "1875/1875 [==============================] - 7s 4ms/step - loss: 0.1422 - accuracy: 0.9506 - val_loss: 0.3501 - val_accuracy: 0.9102\n",
            "Epoch 8/20\n",
            "1875/1875 [==============================] - 8s 4ms/step - loss: 0.1301 - accuracy: 0.9552 - val_loss: 0.3116 - val_accuracy: 0.9180\n",
            "Epoch 9/20\n",
            "1875/1875 [==============================] - 7s 4ms/step - loss: 0.1225 - accuracy: 0.9595 - val_loss: 0.4205 - val_accuracy: 0.9070\n",
            "Epoch 10/20\n",
            "1875/1875 [==============================] - 7s 4ms/step - loss: 0.1142 - accuracy: 0.9611 - val_loss: 0.3807 - val_accuracy: 0.9131\n",
            "Epoch 11/20\n",
            "1875/1875 [==============================] - 7s 4ms/step - loss: 0.1048 - accuracy: 0.9640 - val_loss: 0.3820 - val_accuracy: 0.9067\n",
            "Epoch 12/20\n",
            "1875/1875 [==============================] - 7s 4ms/step - loss: 0.0985 - accuracy: 0.9671 - val_loss: 0.3649 - val_accuracy: 0.9087\n",
            "Epoch 13/20\n",
            "1875/1875 [==============================] - 7s 4ms/step - loss: 0.0915 - accuracy: 0.9690 - val_loss: 0.3838 - val_accuracy: 0.9088\n",
            "Epoch 14/20\n",
            "1875/1875 [==============================] - 8s 4ms/step - loss: 0.0871 - accuracy: 0.9714 - val_loss: 0.4107 - val_accuracy: 0.9100\n",
            "Epoch 15/20\n",
            "1875/1875 [==============================] - 7s 4ms/step - loss: 0.0816 - accuracy: 0.9729 - val_loss: 0.4472 - val_accuracy: 0.9102\n",
            "Epoch 16/20\n",
            "1875/1875 [==============================] - 7s 4ms/step - loss: 0.0767 - accuracy: 0.9754 - val_loss: 0.5090 - val_accuracy: 0.9093\n",
            "Epoch 17/20\n",
            "1875/1875 [==============================] - 7s 4ms/step - loss: 0.0721 - accuracy: 0.9760 - val_loss: 0.5094 - val_accuracy: 0.9016\n",
            "Epoch 18/20\n",
            "1875/1875 [==============================] - 8s 4ms/step - loss: 0.0666 - accuracy: 0.9771 - val_loss: 0.5252 - val_accuracy: 0.9142\n",
            "Epoch 19/20\n",
            "1875/1875 [==============================] - 10s 5ms/step - loss: 0.0639 - accuracy: 0.9790 - val_loss: 0.5700 - val_accuracy: 0.8962\n",
            "Epoch 20/20\n",
            "1875/1875 [==============================] - 9s 5ms/step - loss: 0.0581 - accuracy: 0.9806 - val_loss: 0.7310 - val_accuracy: 0.9016\n"
          ]
        },
        {
          "output_type": "execute_result",
          "data": {
            "text/plain": [
              "<keras.callbacks.History at 0x7f487c79aa50>"
            ]
          },
          "metadata": {},
          "execution_count": 109
        }
      ],
      "source": [
        "# training the model for 20 epochs\n",
        "model1.fit(X_train, Y_train, batch_size=32, epochs=20, validation_data=(X_test, Y_test))"
      ]
    },
    {
      "cell_type": "code",
      "source": [
        "summary = pd.DataFrame(model1.history.history)\n",
        "summary.head()"
      ],
      "metadata": {
        "colab": {
          "base_uri": "https://localhost:8080/",
          "height": 206
        },
        "id": "v3nNBwuvoDHN",
        "outputId": "03dab27f-be7d-4d64-a401-456c556b2552"
      },
      "execution_count": 110,
      "outputs": [
        {
          "output_type": "execute_result",
          "data": {
            "text/plain": [
              "   loss  accuracy  val_loss  val_accuracy\n",
              "0 0.368     0.871     0.306         0.892\n",
              "1 0.247     0.912     0.299         0.894\n",
              "2 0.210     0.925     0.271         0.910\n",
              "3 0.185     0.934     0.302         0.899\n",
              "4 0.168     0.942     0.318         0.906"
            ],
            "text/html": [
              "\n",
              "  <div id=\"df-00e9df1a-dabe-4be8-a16f-a814bf4c3b8f\">\n",
              "    <div class=\"colab-df-container\">\n",
              "      <div>\n",
              "<style scoped>\n",
              "    .dataframe tbody tr th:only-of-type {\n",
              "        vertical-align: middle;\n",
              "    }\n",
              "\n",
              "    .dataframe tbody tr th {\n",
              "        vertical-align: top;\n",
              "    }\n",
              "\n",
              "    .dataframe thead th {\n",
              "        text-align: right;\n",
              "    }\n",
              "</style>\n",
              "<table border=\"1\" class=\"dataframe\">\n",
              "  <thead>\n",
              "    <tr style=\"text-align: right;\">\n",
              "      <th></th>\n",
              "      <th>loss</th>\n",
              "      <th>accuracy</th>\n",
              "      <th>val_loss</th>\n",
              "      <th>val_accuracy</th>\n",
              "    </tr>\n",
              "  </thead>\n",
              "  <tbody>\n",
              "    <tr>\n",
              "      <th>0</th>\n",
              "      <td>0.368</td>\n",
              "      <td>0.871</td>\n",
              "      <td>0.306</td>\n",
              "      <td>0.892</td>\n",
              "    </tr>\n",
              "    <tr>\n",
              "      <th>1</th>\n",
              "      <td>0.247</td>\n",
              "      <td>0.912</td>\n",
              "      <td>0.299</td>\n",
              "      <td>0.894</td>\n",
              "    </tr>\n",
              "    <tr>\n",
              "      <th>2</th>\n",
              "      <td>0.210</td>\n",
              "      <td>0.925</td>\n",
              "      <td>0.271</td>\n",
              "      <td>0.910</td>\n",
              "    </tr>\n",
              "    <tr>\n",
              "      <th>3</th>\n",
              "      <td>0.185</td>\n",
              "      <td>0.934</td>\n",
              "      <td>0.302</td>\n",
              "      <td>0.899</td>\n",
              "    </tr>\n",
              "    <tr>\n",
              "      <th>4</th>\n",
              "      <td>0.168</td>\n",
              "      <td>0.942</td>\n",
              "      <td>0.318</td>\n",
              "      <td>0.906</td>\n",
              "    </tr>\n",
              "  </tbody>\n",
              "</table>\n",
              "</div>\n",
              "      <button class=\"colab-df-convert\" onclick=\"convertToInteractive('df-00e9df1a-dabe-4be8-a16f-a814bf4c3b8f')\"\n",
              "              title=\"Convert this dataframe to an interactive table.\"\n",
              "              style=\"display:none;\">\n",
              "        \n",
              "  <svg xmlns=\"http://www.w3.org/2000/svg\" height=\"24px\"viewBox=\"0 0 24 24\"\n",
              "       width=\"24px\">\n",
              "    <path d=\"M0 0h24v24H0V0z\" fill=\"none\"/>\n",
              "    <path d=\"M18.56 5.44l.94 2.06.94-2.06 2.06-.94-2.06-.94-.94-2.06-.94 2.06-2.06.94zm-11 1L8.5 8.5l.94-2.06 2.06-.94-2.06-.94L8.5 2.5l-.94 2.06-2.06.94zm10 10l.94 2.06.94-2.06 2.06-.94-2.06-.94-.94-2.06-.94 2.06-2.06.94z\"/><path d=\"M17.41 7.96l-1.37-1.37c-.4-.4-.92-.59-1.43-.59-.52 0-1.04.2-1.43.59L10.3 9.45l-7.72 7.72c-.78.78-.78 2.05 0 2.83L4 21.41c.39.39.9.59 1.41.59.51 0 1.02-.2 1.41-.59l7.78-7.78 2.81-2.81c.8-.78.8-2.07 0-2.86zM5.41 20L4 18.59l7.72-7.72 1.47 1.35L5.41 20z\"/>\n",
              "  </svg>\n",
              "      </button>\n",
              "      \n",
              "  <style>\n",
              "    .colab-df-container {\n",
              "      display:flex;\n",
              "      flex-wrap:wrap;\n",
              "      gap: 12px;\n",
              "    }\n",
              "\n",
              "    .colab-df-convert {\n",
              "      background-color: #E8F0FE;\n",
              "      border: none;\n",
              "      border-radius: 50%;\n",
              "      cursor: pointer;\n",
              "      display: none;\n",
              "      fill: #1967D2;\n",
              "      height: 32px;\n",
              "      padding: 0 0 0 0;\n",
              "      width: 32px;\n",
              "    }\n",
              "\n",
              "    .colab-df-convert:hover {\n",
              "      background-color: #E2EBFA;\n",
              "      box-shadow: 0px 1px 2px rgba(60, 64, 67, 0.3), 0px 1px 3px 1px rgba(60, 64, 67, 0.15);\n",
              "      fill: #174EA6;\n",
              "    }\n",
              "\n",
              "    [theme=dark] .colab-df-convert {\n",
              "      background-color: #3B4455;\n",
              "      fill: #D2E3FC;\n",
              "    }\n",
              "\n",
              "    [theme=dark] .colab-df-convert:hover {\n",
              "      background-color: #434B5C;\n",
              "      box-shadow: 0px 1px 3px 1px rgba(0, 0, 0, 0.15);\n",
              "      filter: drop-shadow(0px 1px 2px rgba(0, 0, 0, 0.3));\n",
              "      fill: #FFFFFF;\n",
              "    }\n",
              "  </style>\n",
              "\n",
              "      <script>\n",
              "        const buttonEl =\n",
              "          document.querySelector('#df-00e9df1a-dabe-4be8-a16f-a814bf4c3b8f button.colab-df-convert');\n",
              "        buttonEl.style.display =\n",
              "          google.colab.kernel.accessAllowed ? 'block' : 'none';\n",
              "\n",
              "        async function convertToInteractive(key) {\n",
              "          const element = document.querySelector('#df-00e9df1a-dabe-4be8-a16f-a814bf4c3b8f');\n",
              "          const dataTable =\n",
              "            await google.colab.kernel.invokeFunction('convertToInteractive',\n",
              "                                                     [key], {});\n",
              "          if (!dataTable) return;\n",
              "\n",
              "          const docLinkHtml = 'Like what you see? Visit the ' +\n",
              "            '<a target=\"_blank\" href=https://colab.research.google.com/notebooks/data_table.ipynb>data table notebook</a>'\n",
              "            + ' to learn more about interactive tables.';\n",
              "          element.innerHTML = '';\n",
              "          dataTable['output_type'] = 'display_data';\n",
              "          await google.colab.output.renderOutput(dataTable, element);\n",
              "          const docLink = document.createElement('div');\n",
              "          docLink.innerHTML = docLinkHtml;\n",
              "          element.appendChild(docLink);\n",
              "        }\n",
              "      </script>\n",
              "    </div>\n",
              "  </div>\n",
              "  "
            ]
          },
          "metadata": {},
          "execution_count": 110
        }
      ]
    },
    {
      "cell_type": "markdown",
      "metadata": {
        "id": "r9_9YvPbYWre"
      },
      "source": [
        "##  Model2 Training \n",
        "\n",
        "**TASK 6: Train/Fit the model to the x_train set by using EarlyStop. Amount of epochs is up to you.**"
      ]
    },
    {
      "cell_type": "code",
      "execution_count": 111,
      "metadata": {
        "id": "I1_sV4LZYWre"
      },
      "outputs": [],
      "source": [
        "from tensorflow.keras.callbacks import EarlyStopping"
      ]
    },
    {
      "cell_type": "code",
      "execution_count": 112,
      "metadata": {
        "id": "wogFvuorYWrf"
      },
      "outputs": [],
      "source": [
        "#early_stop = EarlyStopping(monitor='val_loss',mode=\"min\", patience=2, restore_best_weights = True)\n",
        "early_stop = EarlyStopping(monitor='val_accuracy',mode=\"max\", patience=2, restore_best_weights = True)"
      ]
    },
    {
      "cell_type": "code",
      "source": [
        "model2 = Sequential()\n",
        "\n",
        "# convolutional layer\n",
        "model2.add(Conv2D(filters=28, kernel_size=(3,3), activation='relu', padding='same', input_shape=(28, 28, 1)))\n",
        "model2.add(MaxPool2D(pool_size=(2, 2) ,strides=(1,1)))\n",
        "# flatten output of conv\n",
        "model2.add(Flatten())\n",
        "# hidden layer\n",
        "model2.add(Dense(128, activation='relu'))\n",
        "# output layer\n",
        "model2.add(Dense(10, activation='softmax'))\n",
        "# compiling the sequential model\n",
        "model2.compile(loss='categorical_crossentropy',\n",
        "              optimizer='rmsprop',\n",
        "              metrics=['accuracy'])"
      ],
      "metadata": {
        "id": "MCCIm0jDpN0a"
      },
      "execution_count": 113,
      "outputs": []
    },
    {
      "cell_type": "code",
      "execution_count": 114,
      "metadata": {
        "colab": {
          "base_uri": "https://localhost:8080/"
        },
        "id": "tZBoiD2mYWrf",
        "outputId": "7f972138-58cf-42af-df9d-f83a70741993"
      },
      "outputs": [
        {
          "output_type": "stream",
          "name": "stdout",
          "text": [
            "Epoch 1/20\n",
            "1875/1875 [==============================] - 9s 4ms/step - loss: 0.3571 - accuracy: 0.8732 - val_loss: 0.3096 - val_accuracy: 0.8906\n",
            "Epoch 2/20\n",
            "1875/1875 [==============================] - 7s 4ms/step - loss: 0.2455 - accuracy: 0.9132 - val_loss: 0.2853 - val_accuracy: 0.9001\n",
            "Epoch 3/20\n",
            "1875/1875 [==============================] - 8s 4ms/step - loss: 0.2107 - accuracy: 0.9257 - val_loss: 0.2748 - val_accuracy: 0.9065\n",
            "Epoch 4/20\n",
            "1875/1875 [==============================] - 7s 4ms/step - loss: 0.1888 - accuracy: 0.9337 - val_loss: 0.2809 - val_accuracy: 0.9058\n",
            "Epoch 5/20\n",
            "1875/1875 [==============================] - 7s 4ms/step - loss: 0.1714 - accuracy: 0.9402 - val_loss: 0.2960 - val_accuracy: 0.9068\n",
            "Epoch 6/20\n",
            "1875/1875 [==============================] - 7s 4ms/step - loss: 0.1575 - accuracy: 0.9455 - val_loss: 0.3081 - val_accuracy: 0.9107\n",
            "Epoch 7/20\n",
            "1875/1875 [==============================] - 7s 4ms/step - loss: 0.1465 - accuracy: 0.9491 - val_loss: 0.3511 - val_accuracy: 0.9091\n",
            "Epoch 8/20\n",
            "1875/1875 [==============================] - 7s 4ms/step - loss: 0.1368 - accuracy: 0.9527 - val_loss: 0.3389 - val_accuracy: 0.9071\n"
          ]
        },
        {
          "output_type": "execute_result",
          "data": {
            "text/plain": [
              "<keras.callbacks.History at 0x7f487a654590>"
            ]
          },
          "metadata": {},
          "execution_count": 114
        }
      ],
      "source": [
        "model2.fit(X_train, Y_train, batch_size=32, epochs=20, validation_data=(X_test,Y_test),callbacks=[early_stop])"
      ]
    },
    {
      "cell_type": "code",
      "execution_count": 115,
      "metadata": {
        "colab": {
          "base_uri": "https://localhost:8080/",
          "height": 206
        },
        "id": "2D3ZwaS8YWrf",
        "outputId": "42343577-9896-4ce7-e0b6-79c080ccf779"
      },
      "outputs": [
        {
          "output_type": "execute_result",
          "data": {
            "text/plain": [
              "   loss  accuracy  val_loss  val_accuracy\n",
              "0 0.357     0.873     0.310         0.891\n",
              "1 0.245     0.913     0.285         0.900\n",
              "2 0.211     0.926     0.275         0.906\n",
              "3 0.189     0.934     0.281         0.906\n",
              "4 0.171     0.940     0.296         0.907"
            ],
            "text/html": [
              "\n",
              "  <div id=\"df-5f0f2485-eca9-4713-839d-c8b81615b1f4\">\n",
              "    <div class=\"colab-df-container\">\n",
              "      <div>\n",
              "<style scoped>\n",
              "    .dataframe tbody tr th:only-of-type {\n",
              "        vertical-align: middle;\n",
              "    }\n",
              "\n",
              "    .dataframe tbody tr th {\n",
              "        vertical-align: top;\n",
              "    }\n",
              "\n",
              "    .dataframe thead th {\n",
              "        text-align: right;\n",
              "    }\n",
              "</style>\n",
              "<table border=\"1\" class=\"dataframe\">\n",
              "  <thead>\n",
              "    <tr style=\"text-align: right;\">\n",
              "      <th></th>\n",
              "      <th>loss</th>\n",
              "      <th>accuracy</th>\n",
              "      <th>val_loss</th>\n",
              "      <th>val_accuracy</th>\n",
              "    </tr>\n",
              "  </thead>\n",
              "  <tbody>\n",
              "    <tr>\n",
              "      <th>0</th>\n",
              "      <td>0.357</td>\n",
              "      <td>0.873</td>\n",
              "      <td>0.310</td>\n",
              "      <td>0.891</td>\n",
              "    </tr>\n",
              "    <tr>\n",
              "      <th>1</th>\n",
              "      <td>0.245</td>\n",
              "      <td>0.913</td>\n",
              "      <td>0.285</td>\n",
              "      <td>0.900</td>\n",
              "    </tr>\n",
              "    <tr>\n",
              "      <th>2</th>\n",
              "      <td>0.211</td>\n",
              "      <td>0.926</td>\n",
              "      <td>0.275</td>\n",
              "      <td>0.906</td>\n",
              "    </tr>\n",
              "    <tr>\n",
              "      <th>3</th>\n",
              "      <td>0.189</td>\n",
              "      <td>0.934</td>\n",
              "      <td>0.281</td>\n",
              "      <td>0.906</td>\n",
              "    </tr>\n",
              "    <tr>\n",
              "      <th>4</th>\n",
              "      <td>0.171</td>\n",
              "      <td>0.940</td>\n",
              "      <td>0.296</td>\n",
              "      <td>0.907</td>\n",
              "    </tr>\n",
              "  </tbody>\n",
              "</table>\n",
              "</div>\n",
              "      <button class=\"colab-df-convert\" onclick=\"convertToInteractive('df-5f0f2485-eca9-4713-839d-c8b81615b1f4')\"\n",
              "              title=\"Convert this dataframe to an interactive table.\"\n",
              "              style=\"display:none;\">\n",
              "        \n",
              "  <svg xmlns=\"http://www.w3.org/2000/svg\" height=\"24px\"viewBox=\"0 0 24 24\"\n",
              "       width=\"24px\">\n",
              "    <path d=\"M0 0h24v24H0V0z\" fill=\"none\"/>\n",
              "    <path d=\"M18.56 5.44l.94 2.06.94-2.06 2.06-.94-2.06-.94-.94-2.06-.94 2.06-2.06.94zm-11 1L8.5 8.5l.94-2.06 2.06-.94-2.06-.94L8.5 2.5l-.94 2.06-2.06.94zm10 10l.94 2.06.94-2.06 2.06-.94-2.06-.94-.94-2.06-.94 2.06-2.06.94z\"/><path d=\"M17.41 7.96l-1.37-1.37c-.4-.4-.92-.59-1.43-.59-.52 0-1.04.2-1.43.59L10.3 9.45l-7.72 7.72c-.78.78-.78 2.05 0 2.83L4 21.41c.39.39.9.59 1.41.59.51 0 1.02-.2 1.41-.59l7.78-7.78 2.81-2.81c.8-.78.8-2.07 0-2.86zM5.41 20L4 18.59l7.72-7.72 1.47 1.35L5.41 20z\"/>\n",
              "  </svg>\n",
              "      </button>\n",
              "      \n",
              "  <style>\n",
              "    .colab-df-container {\n",
              "      display:flex;\n",
              "      flex-wrap:wrap;\n",
              "      gap: 12px;\n",
              "    }\n",
              "\n",
              "    .colab-df-convert {\n",
              "      background-color: #E8F0FE;\n",
              "      border: none;\n",
              "      border-radius: 50%;\n",
              "      cursor: pointer;\n",
              "      display: none;\n",
              "      fill: #1967D2;\n",
              "      height: 32px;\n",
              "      padding: 0 0 0 0;\n",
              "      width: 32px;\n",
              "    }\n",
              "\n",
              "    .colab-df-convert:hover {\n",
              "      background-color: #E2EBFA;\n",
              "      box-shadow: 0px 1px 2px rgba(60, 64, 67, 0.3), 0px 1px 3px 1px rgba(60, 64, 67, 0.15);\n",
              "      fill: #174EA6;\n",
              "    }\n",
              "\n",
              "    [theme=dark] .colab-df-convert {\n",
              "      background-color: #3B4455;\n",
              "      fill: #D2E3FC;\n",
              "    }\n",
              "\n",
              "    [theme=dark] .colab-df-convert:hover {\n",
              "      background-color: #434B5C;\n",
              "      box-shadow: 0px 1px 3px 1px rgba(0, 0, 0, 0.15);\n",
              "      filter: drop-shadow(0px 1px 2px rgba(0, 0, 0, 0.3));\n",
              "      fill: #FFFFFF;\n",
              "    }\n",
              "  </style>\n",
              "\n",
              "      <script>\n",
              "        const buttonEl =\n",
              "          document.querySelector('#df-5f0f2485-eca9-4713-839d-c8b81615b1f4 button.colab-df-convert');\n",
              "        buttonEl.style.display =\n",
              "          google.colab.kernel.accessAllowed ? 'block' : 'none';\n",
              "\n",
              "        async function convertToInteractive(key) {\n",
              "          const element = document.querySelector('#df-5f0f2485-eca9-4713-839d-c8b81615b1f4');\n",
              "          const dataTable =\n",
              "            await google.colab.kernel.invokeFunction('convertToInteractive',\n",
              "                                                     [key], {});\n",
              "          if (!dataTable) return;\n",
              "\n",
              "          const docLinkHtml = 'Like what you see? Visit the ' +\n",
              "            '<a target=\"_blank\" href=https://colab.research.google.com/notebooks/data_table.ipynb>data table notebook</a>'\n",
              "            + ' to learn more about interactive tables.';\n",
              "          element.innerHTML = '';\n",
              "          dataTable['output_type'] = 'display_data';\n",
              "          await google.colab.output.renderOutput(dataTable, element);\n",
              "          const docLink = document.createElement('div');\n",
              "          docLink.innerHTML = docLinkHtml;\n",
              "          element.appendChild(docLink);\n",
              "        }\n",
              "      </script>\n",
              "    </div>\n",
              "  </div>\n",
              "  "
            ]
          },
          "metadata": {},
          "execution_count": 115
        }
      ],
      "source": [
        "summary = pd.DataFrame(model2.history.history)\n",
        "summary.head()"
      ]
    },
    {
      "cell_type": "markdown",
      "source": [
        "##  Model3 Training "
      ],
      "metadata": {
        "id": "74W4HIrj1M-Z"
      }
    },
    {
      "cell_type": "code",
      "source": [
        "model3 = Sequential()\n",
        "\n",
        "model3.add(Conv2D(28 , kernel_size=(3,3) , input_shape=(28, 28, 1), activation='relu'))\n",
        "model3.add(BatchNormalization())\n",
        "model3.add(MaxPool2D(pool_size=(2, 2) ,strides=(1,1)))\n",
        "model3.add(Dropout(0.2))\n",
        "\n",
        "model3.add(Flatten())\n",
        "\n",
        "model3.add(Dense(128, activation='relu'))\n",
        "model3.add(BatchNormalization())\n",
        "model3.add(Dropout(0.2))\n",
        "model3.add(Dense(10, activation='softmax'))\n",
        "\n",
        "model3.compile(loss='categorical_crossentropy',\n",
        "              optimizer='rmsprop',\n",
        "              metrics=['accuracy'])"
      ],
      "metadata": {
        "id": "B-yHiBib1MeF"
      },
      "execution_count": 119,
      "outputs": []
    },
    {
      "cell_type": "code",
      "source": [
        "model3.summary()"
      ],
      "metadata": {
        "colab": {
          "base_uri": "https://localhost:8080/"
        },
        "id": "ouixiB-31P8s",
        "outputId": "941748d1-2836-4360-b500-e9127bbe841d"
      },
      "execution_count": 120,
      "outputs": [
        {
          "output_type": "stream",
          "name": "stdout",
          "text": [
            "Model: \"sequential_5\"\n",
            "_________________________________________________________________\n",
            " Layer (type)                Output Shape              Param #   \n",
            "=================================================================\n",
            " conv2d_5 (Conv2D)           (None, 26, 26, 28)        280       \n",
            "                                                                 \n",
            " batch_normalization_1 (Batc  (None, 26, 26, 28)       112       \n",
            " hNormalization)                                                 \n",
            "                                                                 \n",
            " max_pooling2d_5 (MaxPooling  (None, 25, 25, 28)       0         \n",
            " 2D)                                                             \n",
            "                                                                 \n",
            " dropout (Dropout)           (None, 25, 25, 28)        0         \n",
            "                                                                 \n",
            " flatten_4 (Flatten)         (None, 17500)             0         \n",
            "                                                                 \n",
            " dense_8 (Dense)             (None, 128)               2240128   \n",
            "                                                                 \n",
            " batch_normalization_2 (Batc  (None, 128)              512       \n",
            " hNormalization)                                                 \n",
            "                                                                 \n",
            " dropout_1 (Dropout)         (None, 128)               0         \n",
            "                                                                 \n",
            " dense_9 (Dense)             (None, 10)                1290      \n",
            "                                                                 \n",
            "=================================================================\n",
            "Total params: 2,242,322\n",
            "Trainable params: 2,242,010\n",
            "Non-trainable params: 312\n",
            "_________________________________________________________________\n"
          ]
        }
      ]
    },
    {
      "cell_type": "code",
      "source": [
        "early_stop = EarlyStopping(monitor='val_accuracy', patience=2, restore_best_weights = True)"
      ],
      "metadata": {
        "id": "jjny7LND1P_T"
      },
      "execution_count": 121,
      "outputs": []
    },
    {
      "cell_type": "code",
      "source": [
        "model3.fit(X_train, Y_train, batch_size=32, epochs=20, validation_data=(X_test,Y_test), callbacks=[early_stop])"
      ],
      "metadata": {
        "colab": {
          "base_uri": "https://localhost:8080/"
        },
        "id": "yHcx6Mzf1QCJ",
        "outputId": "c0bfa2a5-2955-4bb0-c06e-32ef7138e91c"
      },
      "execution_count": 122,
      "outputs": [
        {
          "output_type": "stream",
          "name": "stdout",
          "text": [
            "Epoch 1/20\n",
            "1875/1875 [==============================] - 11s 5ms/step - loss: 0.3978 - accuracy: 0.8622 - val_loss: 0.3236 - val_accuracy: 0.8810\n",
            "Epoch 2/20\n",
            "1875/1875 [==============================] - 9s 5ms/step - loss: 0.2796 - accuracy: 0.9009 - val_loss: 0.3012 - val_accuracy: 0.8912\n",
            "Epoch 3/20\n",
            "1875/1875 [==============================] - 9s 5ms/step - loss: 0.2498 - accuracy: 0.9121 - val_loss: 0.2654 - val_accuracy: 0.9083\n",
            "Epoch 4/20\n",
            "1875/1875 [==============================] - 9s 5ms/step - loss: 0.2248 - accuracy: 0.9212 - val_loss: 0.2726 - val_accuracy: 0.9108\n",
            "Epoch 5/20\n",
            "1875/1875 [==============================] - 9s 5ms/step - loss: 0.2077 - accuracy: 0.9276 - val_loss: 0.2733 - val_accuracy: 0.9081\n",
            "Epoch 6/20\n",
            "1875/1875 [==============================] - 9s 5ms/step - loss: 0.1940 - accuracy: 0.9305 - val_loss: 0.2499 - val_accuracy: 0.9195\n",
            "Epoch 7/20\n",
            "1875/1875 [==============================] - 10s 6ms/step - loss: 0.1826 - accuracy: 0.9353 - val_loss: 0.2709 - val_accuracy: 0.9094\n",
            "Epoch 8/20\n",
            "1875/1875 [==============================] - 10s 5ms/step - loss: 0.1794 - accuracy: 0.9363 - val_loss: 0.3235 - val_accuracy: 0.9119\n"
          ]
        },
        {
          "output_type": "execute_result",
          "data": {
            "text/plain": [
              "<keras.callbacks.History at 0x7f487a46c710>"
            ]
          },
          "metadata": {},
          "execution_count": 122
        }
      ]
    },
    {
      "cell_type": "markdown",
      "metadata": {
        "id": "0xpjDMdwYWrf"
      },
      "source": [
        "## ** Plot values of metrics you used in your model.**"
      ]
    },
    {
      "cell_type": "markdown",
      "source": [
        "**TASK 7: Plot values of metrics you used in your model.**"
      ],
      "metadata": {
        "id": "00o1Ieu17OdO"
      }
    },
    {
      "cell_type": "code",
      "source": [
        "def summaryhistory(modelname):\n",
        "\n",
        "  summary = pd.DataFrame(modelname.history.history)\n",
        "\n",
        "  acc = summary['accuracy']\n",
        "  val_acc = summary['val_accuracy']\n",
        "\n",
        "  loss = summary['loss']\n",
        "  val_loss = summary['val_loss']\n",
        "\n",
        "  epochs=summary.shape[0]\n",
        "  epochs_range = range(epochs)\n",
        "  plt.figure(figsize=(20, 5))\n",
        "\n",
        "  plt.subplot(1, 3, 1)\n",
        "  plt.plot(epochs_range,summary)\n",
        "  plt.legend(loc='center')\n",
        "  plt.title('Training and Validation Accuracy-Loss')\n",
        "\n",
        "  plt.subplot(1, 3, 2)\n",
        "  plt.plot(epochs_range, acc, label='Training Accuracy')\n",
        "  plt.plot(epochs_range, val_acc, label='Validation Accuracy')\n",
        "  plt.legend(loc='lower right')\n",
        "  plt.title('Training and Validation Accuracy')\n",
        "\n",
        "  plt.subplot(1, 3, 3)\n",
        "  plt.plot(epochs_range, loss, label='Training Loss')\n",
        "  plt.plot(epochs_range, val_loss, label='Validation Loss')\n",
        "  plt.legend(loc='upper right')\n",
        "  plt.title('Training and Validation Loss');\n"
      ],
      "metadata": {
        "id": "SuVmkskY93MR"
      },
      "execution_count": 123,
      "outputs": []
    },
    {
      "cell_type": "code",
      "source": [
        "summaryhistory(model1)"
      ],
      "metadata": {
        "colab": {
          "base_uri": "https://localhost:8080/",
          "height": 354
        },
        "id": "C4KAR_0dMjnV",
        "outputId": "ec8ee08d-bd45-42aa-9997-b560327d02a7"
      },
      "execution_count": 124,
      "outputs": [
        {
          "output_type": "stream",
          "name": "stderr",
          "text": [
            "WARNING:matplotlib.legend:No handles with labels found to put in legend.\n"
          ]
        },
        {
          "output_type": "display_data",
          "data": {
            "text/plain": [
              "<Figure size 1440x360 with 3 Axes>"
            ],
            "image/png": "[encoded data removed]"
          },
          "metadata": {}
        }
      ]
    },
    {
      "cell_type": "code",
      "source": [
        "summaryhistory(model2)"
      ],
      "metadata": {
        "colab": {
          "base_uri": "https://localhost:8080/",
          "height": 354
        },
        "id": "RT_an2rmMjqf",
        "outputId": "ddfd0bfb-3f0d-4bf2-d8fa-916d64bedf13"
      },
      "execution_count": 125,
      "outputs": [
        {
          "output_type": "stream",
          "name": "stderr",
          "text": [
            "WARNING:matplotlib.legend:No handles with labels found to put in legend.\n"
          ]
        },
        {
          "output_type": "display_data",
          "data": {
            "text/plain": [
              "<Figure size 1440x360 with 3 Axes>"
            ],
            "image/png": "[encoded data removed]"
          },
          "metadata": {}
        }
      ]
    },
    {
      "cell_type": "code",
      "source": [
        "summaryhistory(model3)"
      ],
      "metadata": {
        "colab": {
          "base_uri": "https://localhost:8080/",
          "height": 354
        },
        "id": "o03vELcL5f3i",
        "outputId": "417f9c7c-8e16-4bea-9e9f-297fc8c5177f"
      },
      "execution_count": 126,
      "outputs": [
        {
          "output_type": "stream",
          "name": "stderr",
          "text": [
            "WARNING:matplotlib.legend:No handles with labels found to put in legend.\n"
          ]
        },
        {
          "output_type": "display_data",
          "data": {
            "text/plain": [
              "<Figure size 1440x360 with 3 Axes>"
            ],
            "image/png": "[encoded data removed]"
          },
          "metadata": {}
        }
      ]
    },
    {
      "cell_type": "markdown",
      "metadata": {
        "id": "s1rwGkL_YWrg"
      },
      "source": [
        "## Model Evaluation\n",
        "\n",
        "**TASK 8: Show the accuracy,precision,recall,f1-score the model achieved on the x_test data set. Keep in mind, there are quite a few ways to do this, but we recommend following the same procedure we showed in the MNIST lecture.**"
      ]
    },
    {
      "cell_type": "code",
      "execution_count": 127,
      "metadata": {
        "id": "X-Ekfv0wYWrg"
      },
      "outputs": [],
      "source": [
        "from sklearn.metrics import classification_report, confusion_matrix"
      ]
    },
    {
      "cell_type": "code",
      "source": [
        "def Model_Evaluation(modelname):\n",
        "    print('='*30,'Score_evaluate','='*30)\n",
        "    print()\n",
        "    score = modelname.evaluate(X_test, Y_test, verbose=0)\n",
        "    print('Test loss:', score[0],' '*10 ,'Test accuracy:', score[1])\n",
        "    print()\n",
        "    pred_prob = modelname.predict(X_test)\n",
        "    y_pred = np.argmax(pred_prob, axis=1)\n",
        "    print('='*30,'total false predict','='*30)\n",
        "    print(\"for x_test total false predict:\",(y_test != y_pred).sum())\n",
        "    print()\n",
        "    print('='*30,'Classification Report','='*30)\n",
        "    print(classification_report(y_test, y_pred))\n",
        "    print()\n",
        "    print('='*30,'Confusion Matrix','='*30)\n",
        "    print(confusion_matrix(y_test, y_pred))\n",
        "    print()\n",
        "    print('='*30,'Confusion Matrix','='*30)\n",
        "    sns.heatmap(confusion_matrix(y_test, y_pred), annot=True, cmap='YlGn', linewidths=.5, linecolor='black', fmt='g', annot_kws = {\"size\": 10})"
      ],
      "metadata": {
        "id": "T1I4x-WVqBEr"
      },
      "execution_count": 128,
      "outputs": []
    },
    {
      "cell_type": "code",
      "source": [
        "Model_Evaluation(model1)"
      ],
      "metadata": {
        "colab": {
          "base_uri": "https://localhost:8080/",
          "height": 1000
        },
        "id": "5IwhvKQGqqch",
        "outputId": "84012a60-7121-4f9c-89df-67980380d7aa"
      },
      "execution_count": 129,
      "outputs": [
        {
          "output_type": "stream",
          "name": "stdout",
          "text": [
            "============================== Score_evaluate ==============================\n",
            "\n",
            "Test loss: 0.7310383915901184            Test accuracy: 0.9016000032424927\n",
            "\n",
            "============================== total false predict ==============================\n",
            "for x_test total false predict: 984\n",
            "\n",
            "============================== Classification Report ==============================\n",
            "              precision    recall  f1-score   support\n",
            "\n",
            "           0       0.89      0.82      0.86      1000\n",
            "           1       0.96      0.98      0.97      1000\n",
            "           2       0.89      0.81      0.85      1000\n",
            "           3       0.93      0.85      0.89      1000\n",
            "           4       0.85      0.87      0.86      1000\n",
            "           5       0.95      0.98      0.97      1000\n",
            "           6       0.67      0.81      0.73      1000\n",
            "           7       0.97      0.94      0.96      1000\n",
            "           8       0.99      0.97      0.98      1000\n",
            "           9       0.97      0.97      0.97      1000\n",
            "\n",
            "    accuracy                           0.90     10000\n",
            "   macro avg       0.91      0.90      0.90     10000\n",
            "weighted avg       0.91      0.90      0.90     10000\n",
            "\n",
            "\n",
            "============================== Confusion Matrix ==============================\n",
            "[[820   5  11  12   7   2 138   0   5   0]\n",
            " [  2 983   0   4   2   0   9   0   0   0]\n",
            " [ 12   2 813   6  71   0  96   0   0   0]\n",
            " [ 11  28   9 853  21   0  76   0   2   0]\n",
            " [  0   0  35  23 868   0  73   0   1   0]\n",
            " [  0   0   0   1   0 985   1   6   0   7]\n",
            " [ 70   2  42  19  54   0 808   0   5   0]\n",
            " [  0   0   0   0   0  35   0 940   0  25]\n",
            " [  2   3   1   0   2   5  10   2 973   2]\n",
            " [  1   0   0   0   0   9   0  17   0 973]]\n",
            "\n",
            "============================== Confusion Matrix ==============================\n"
          ]
        },
        {
          "output_type": "display_data",
          "data": {
            "text/plain": [
              "<Figure size 720x432 with 2 Axes>"
            ],
            "image/png": "[encoded data removed]"
          },
          "metadata": {}
        }
      ]
    },
    {
      "cell_type": "code",
      "execution_count": 130,
      "metadata": {
        "colab": {
          "base_uri": "https://localhost:8080/",
          "height": 1000
        },
        "id": "Fbj2V2B0YWrh",
        "outputId": "496f5a3d-fb55-4f9d-b3be-c21e7f774ea0"
      },
      "outputs": [
        {
          "output_type": "stream",
          "name": "stdout",
          "text": [
            "============================== Score_evaluate ==============================\n",
            "\n",
            "Test loss: 0.3081487715244293            Test accuracy: 0.9107000231742859\n",
            "\n",
            "============================== total false predict ==============================\n",
            "for x_test total false predict: 893\n",
            "\n",
            "============================== Classification Report ==============================\n",
            "              precision    recall  f1-score   support\n",
            "\n",
            "           0       0.86      0.86      0.86      1000\n",
            "           1       0.97      0.98      0.98      1000\n",
            "           2       0.86      0.87      0.86      1000\n",
            "           3       0.94      0.87      0.90      1000\n",
            "           4       0.84      0.89      0.86      1000\n",
            "           5       0.98      0.99      0.98      1000\n",
            "           6       0.75      0.74      0.74      1000\n",
            "           7       0.96      0.97      0.97      1000\n",
            "           8       0.98      0.98      0.98      1000\n",
            "           9       0.98      0.96      0.97      1000\n",
            "\n",
            "    accuracy                           0.91     10000\n",
            "   macro avg       0.91      0.91      0.91     10000\n",
            "weighted avg       0.91      0.91      0.91     10000\n",
            "\n",
            "\n",
            "============================== Confusion Matrix ==============================\n",
            "[[857   0  12   9   3   1 112   0   6   0]\n",
            " [  2 985   1   5   2   0   2   0   3   0]\n",
            " [ 24   1 872   4  48   0  50   0   1   0]\n",
            " [ 16  19  10 869  42   0  42   0   2   0]\n",
            " [  2   1  61  13 886   1  35   0   1   0]\n",
            " [  0   0   0   0   0 986   0   5   1   8]\n",
            " [ 91   4  62  20  75   0 739   0   9   0]\n",
            " [  0   0   0   0   0  16   0 971   1  12]\n",
            " [  3   2   1   1   2   0   5   1 985   0]\n",
            " [  0   0   0   0   0   7   1  34   1 957]]\n",
            "\n",
            "============================== Confusion Matrix ==============================\n"
          ]
        },
        {
          "output_type": "display_data",
          "data": {
            "text/plain": [
              "<Figure size 720x432 with 2 Axes>"
            ],
            "image/png": "[encoded data removed]"
          },
          "metadata": {}
        }
      ],
      "source": [
        "Model_Evaluation(model2)             #model2 useing  early stop"
      ]
    },
    {
      "cell_type": "code",
      "source": [
        "Model_Evaluation(model3)            #model3 useing early stop, dropout, BatchNormalization"
      ],
      "metadata": {
        "colab": {
          "base_uri": "https://localhost:8080/",
          "height": 1000
        },
        "id": "Q-SZxPZ95jji",
        "outputId": "15be3ea1-e4e7-4cb2-b784-cebe5b06a372"
      },
      "execution_count": 131,
      "outputs": [
        {
          "output_type": "stream",
          "name": "stdout",
          "text": [
            "============================== Score_evaluate ==============================\n",
            "\n",
            "Test loss: 0.24992091953754425            Test accuracy: 0.9194999933242798\n",
            "\n",
            "============================== total false predict ==============================\n",
            "for x_test total false predict: 805\n",
            "\n",
            "============================== Classification Report ==============================\n",
            "              precision    recall  f1-score   support\n",
            "\n",
            "           0       0.87      0.90      0.88      1000\n",
            "           1       0.99      0.98      0.99      1000\n",
            "           2       0.87      0.86      0.87      1000\n",
            "           3       0.92      0.91      0.92      1000\n",
            "           4       0.83      0.92      0.87      1000\n",
            "           5       0.98      0.98      0.98      1000\n",
            "           6       0.81      0.72      0.77      1000\n",
            "           7       0.96      0.97      0.96      1000\n",
            "           8       0.99      0.98      0.98      1000\n",
            "           9       0.97      0.97      0.97      1000\n",
            "\n",
            "    accuracy                           0.92     10000\n",
            "   macro avg       0.92      0.92      0.92     10000\n",
            "weighted avg       0.92      0.92      0.92     10000\n",
            "\n",
            "\n",
            "============================== Confusion Matrix ==============================\n",
            "[[897   0  19  13   5   2  59   1   4   0]\n",
            " [  0 977   1  15   5   0   1   0   1   0]\n",
            " [ 17   0 863   8  61   1  50   0   0   0]\n",
            " [  9   5   9 913  40   1  23   0   0   0]\n",
            " [  1   0  35  13 921   0  30   0   0   0]\n",
            " [  0   0   0   0   0 979   0  13   1   7]\n",
            " [109   0  58  29  75   0 724   0   5   0]\n",
            " [  0   0   0   0   0   7   0 970   0  23]\n",
            " [  1   1   5   3   2   2   2   4 980   0]\n",
            " [  0   0   0   0   0   5   1  23   0 971]]\n",
            "\n",
            "============================== Confusion Matrix ==============================\n"
          ]
        },
        {
          "output_type": "display_data",
          "data": {
            "text/plain": [
              "<Figure size 720x432 with 2 Axes>"
            ],
            "image/png": "[encoded data removed]"
          },
          "metadata": {}
        }
      ]
    },
    {
      "cell_type": "code",
      "source": [
        "# class_weigth :bütün classlar eşit sayıda burada bu özelliği kulamaya gerek yok"
      ],
      "metadata": {
        "id": "easKGo27tt0D"
      },
      "execution_count": null,
      "outputs": []
    },
    {
      "cell_type": "markdown",
      "metadata": {
        "id": "n73orX__YWrh"
      },
      "source": [
        "## Prediction"
      ]
    },
    {
      "cell_type": "code",
      "source": [
        "from keras.preprocessing import image"
      ],
      "metadata": {
        "id": "4qV3ztIl3OOl"
      },
      "execution_count": 132,
      "outputs": []
    },
    {
      "cell_type": "code",
      "source": [
        "model3.save(\"Image Classification_cnn.h5\")   # for x_test total false predict: 805 min değer  model3 "
      ],
      "metadata": {
        "id": "BUyc-LOG1kCa"
      },
      "execution_count": 133,
      "outputs": []
    },
    {
      "cell_type": "code",
      "source": [
        "model=tf.keras.models.load_model('Image Classification_cnn.h5')"
      ],
      "metadata": {
        "id": "d-9M977T1kF9"
      },
      "execution_count": 134,
      "outputs": []
    },
    {
      "cell_type": "code",
      "source": [
        "samples_Prediction=[X_test[55], X_test[58]]"
      ],
      "metadata": {
        "id": "HdvtR4d7zuO9"
      },
      "execution_count": 135,
      "outputs": []
    },
    {
      "cell_type": "code",
      "source": [
        "plt.figure(figsize = (10,5))\n",
        "index=1\n",
        "for i in samples_Prediction:\n",
        "    plt.subplot(1,4,index)\n",
        "    plt.imshow(i.reshape(28,28))\n",
        "    index += 1"
      ],
      "metadata": {
        "colab": {
          "base_uri": "https://localhost:8080/",
          "height": 171
        },
        "id": "xB6iXGjRzuRv",
        "outputId": "2fff6c4f-e9aa-4112-afaa-66925fc43b6f"
      },
      "execution_count": 143,
      "outputs": [
        {
          "output_type": "display_data",
          "data": {
            "text/plain": [
              "<Figure size 720x360 with 2 Axes>"
            ],
            "image/png": "[encoded data removed]"
          },
          "metadata": {}
        }
      ]
    },
    {
      "cell_type": "code",
      "source": [
        "samples = np.array(samples_Prediction)\n",
        "samples"
      ],
      "metadata": {
        "colab": {
          "base_uri": "https://localhost:8080/"
        },
        "id": "dp79uwZ50C1n",
        "outputId": "3b619e24-1792-408e-c5a4-c8589f7747b9"
      },
      "execution_count": 137,
      "outputs": [
        {
          "output_type": "execute_result",
          "data": {
            "text/plain": [
              "array([[[[0.        ],\n",
              "         [0.        ],\n",
              "         [0.00392157],\n",
              "         ...,\n",
              "         [0.        ],\n",
              "         [0.        ],\n",
              "         [0.        ]],\n",
              "\n",
              "        [[0.        ],\n",
              "         [0.        ],\n",
              "         [0.        ],\n",
              "         ...,\n",
              "         [0.        ],\n",
              "         [0.        ],\n",
              "         [0.        ]],\n",
              "\n",
              "        [[0.        ],\n",
              "         [0.        ],\n",
              "         [0.        ],\n",
              "         ...,\n",
              "         [0.        ],\n",
              "         [0.        ],\n",
              "         [0.        ]],\n",
              "\n",
              "        ...,\n",
              "\n",
              "        [[0.        ],\n",
              "         [0.        ],\n",
              "         [0.6117647 ],\n",
              "         ...,\n",
              "         [0.38039216],\n",
              "         [0.        ],\n",
              "         [0.        ]],\n",
              "\n",
              "        [[0.        ],\n",
              "         [0.        ],\n",
              "         [0.7372549 ],\n",
              "         ...,\n",
              "         [0.47843137],\n",
              "         [0.        ],\n",
              "         [0.        ]],\n",
              "\n",
              "        [[0.        ],\n",
              "         [0.        ],\n",
              "         [0.20784314],\n",
              "         ...,\n",
              "         [0.21960784],\n",
              "         [0.        ],\n",
              "         [0.        ]]],\n",
              "\n",
              "\n",
              "       [[[0.        ],\n",
              "         [0.        ],\n",
              "         [0.        ],\n",
              "         ...,\n",
              "         [0.        ],\n",
              "         [0.        ],\n",
              "         [0.        ]],\n",
              "\n",
              "        [[0.        ],\n",
              "         [0.        ],\n",
              "         [0.        ],\n",
              "         ...,\n",
              "         [0.        ],\n",
              "         [0.        ],\n",
              "         [0.        ]],\n",
              "\n",
              "        [[0.        ],\n",
              "         [0.        ],\n",
              "         [0.        ],\n",
              "         ...,\n",
              "         [0.        ],\n",
              "         [0.        ],\n",
              "         [0.        ]],\n",
              "\n",
              "        ...,\n",
              "\n",
              "        [[0.        ],\n",
              "         [0.        ],\n",
              "         [0.        ],\n",
              "         ...,\n",
              "         [0.        ],\n",
              "         [0.        ],\n",
              "         [0.        ]],\n",
              "\n",
              "        [[0.        ],\n",
              "         [0.        ],\n",
              "         [0.        ],\n",
              "         ...,\n",
              "         [0.        ],\n",
              "         [0.        ],\n",
              "         [0.        ]],\n",
              "\n",
              "        [[0.        ],\n",
              "         [0.        ],\n",
              "         [0.        ],\n",
              "         ...,\n",
              "         [0.        ],\n",
              "         [0.        ],\n",
              "         [0.        ]]]], dtype=float32)"
            ]
          },
          "metadata": {},
          "execution_count": 137
        }
      ]
    },
    {
      "cell_type": "code",
      "source": [
        "pred_prob = model.predict(samples)\n",
        "pred_prob"
      ],
      "metadata": {
        "colab": {
          "base_uri": "https://localhost:8080/"
        },
        "id": "RqMGABBF0C4S",
        "outputId": "2ef1c95e-d1f7-42af-bc96-d6ce4f098133"
      },
      "execution_count": 138,
      "outputs": [
        {
          "output_type": "execute_result",
          "data": {
            "text/plain": [
              "array([[7.66468525e-04, 1.87008524e-08, 9.95267749e-01, 1.16823435e-06,\n",
              "        5.70469529e-05, 3.71130113e-07, 3.90692847e-03, 1.72744929e-08,\n",
              "        6.90162061e-09, 2.54540851e-07],\n",
              "       [1.73387118e-04, 3.17411068e-05, 1.14292234e-04, 4.26950399e-04,\n",
              "        2.46158525e-05, 7.15083443e-05, 2.34119734e-03, 2.67020660e-05,\n",
              "        9.96588588e-01, 2.00964030e-04]], dtype=float32)"
            ]
          },
          "metadata": {},
          "execution_count": 138
        }
      ]
    },
    {
      "cell_type": "code",
      "source": [
        "y_pred = np.argmax(pred_prob, axis=1)\n",
        "y_pred"
      ],
      "metadata": {
        "colab": {
          "base_uri": "https://localhost:8080/"
        },
        "id": "0g6srvZszuUL",
        "outputId": "a79154c4-eccf-46a0-ee44-0e803d2c04f4"
      },
      "execution_count": 139,
      "outputs": [
        {
          "output_type": "execute_result",
          "data": {
            "text/plain": [
              "array([2, 8])"
            ]
          },
          "metadata": {},
          "execution_count": 139
        }
      ]
    },
    {
      "cell_type": "code",
      "source": [
        "y_test[55],y_test[58]"
      ],
      "metadata": {
        "colab": {
          "base_uri": "https://localhost:8080/"
        },
        "id": "dNwoy38q0ywH",
        "outputId": "8a2f19b4-0d01-4fbb-c715-4d80ad7ec411"
      },
      "execution_count": 140,
      "outputs": [
        {
          "output_type": "execute_result",
          "data": {
            "text/plain": [
              "(2, 8)"
            ]
          },
          "metadata": {},
          "execution_count": 140
        }
      ]
    },
    {
      "cell_type": "code",
      "source": [
        "classes[y_test[55]]"
      ],
      "metadata": {
        "colab": {
          "base_uri": "https://localhost:8080/",
          "height": 36
        },
        "id": "wuJyB9WI0Vhf",
        "outputId": "4848a31b-f7a7-434e-896b-407723f93dc1"
      },
      "execution_count": 141,
      "outputs": [
        {
          "output_type": "execute_result",
          "data": {
            "text/plain": [
              "'Pullover'"
            ],
            "application/vnd.google.colaboratory.intrinsic+json": {
              "type": "string"
            }
          },
          "metadata": {},
          "execution_count": 141
        }
      ]
    },
    {
      "cell_type": "code",
      "source": [
        "classes[y_test[58]]"
      ],
      "metadata": {
        "colab": {
          "base_uri": "https://localhost:8080/",
          "height": 36
        },
        "id": "dCNiN2K00Vk1",
        "outputId": "b7b8cd57-52ec-4d44-f7d9-ae32cb2ef4e1"
      },
      "execution_count": 142,
      "outputs": [
        {
          "output_type": "execute_result",
          "data": {
            "text/plain": [
              "'Bag'"
            ],
            "application/vnd.google.colaboratory.intrinsic+json": {
              "type": "string"
            }
          },
          "metadata": {},
          "execution_count": 142
        }
      ]
    },
    {
      "cell_type": "markdown",
      "metadata": {
        "id": "LomxUkrSYWri"
      },
      "source": [
        "# End of Assignment"
      ]
    },
    {
      "cell_type": "markdown",
      "metadata": {
        "id": "SCm9VGlWYWri"
      },
      "source": [
        "___\n",
        "\n",
        "<p style=\"text-align: center;\"><img src=\"https://docs.google.com/uc?id=1lY0Uj5R04yMY3-ZppPWxqCr5pvBLYPnV\" class=\"img-fluid\" alt=\"CLRSWY\"></p>\n",
        "\n",
        "___"
      ]
    }
  ],
  "metadata": {
    "kernelspec": {
      "display_name": "Python 3",
      "language": "python",
      "name": "python3"
    },
    "language_info": {
      "codemirror_mode": {
        "name": "ipython",
        "version": 3
      },
      "file_extension": ".py",
      "mimetype": "text/x-python",
      "name": "python",
      "nbconvert_exporter": "python",
      "pygments_lexer": "ipython3",
      "version": "3.7.6"
    },
    "toc": {
      "base_numbering": 1,
      "nav_menu": {},
      "number_sections": false,
      "sideBar": true,
      "skip_h1_title": false,
      "title_cell": "Table of Contents",
      "title_sidebar": "Contents",
      "toc_cell": false,
      "toc_position": {},
      "toc_section_display": true,
      "toc_window_display": true
    },
    "colab": {
      "provenance": [],
      "collapsed_sections": [],
      "toc_visible": true,
      "include_colab_link": true
    },
    "accelerator": "GPU"
  },
  "nbformat": 4,
  "nbformat_minor": 0
}